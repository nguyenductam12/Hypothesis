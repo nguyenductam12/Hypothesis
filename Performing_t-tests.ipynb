{
 "cells": [
  {
   "cell_type": "markdown",
   "source": [
    "<h1>Performing t-tests</h1>"
   ],
   "metadata": {
    "collapsed": false
   },
   "id": "3ac2ee6f9a0f030c"
  },
  {
   "cell_type": "code",
   "execution_count": 26,
   "outputs": [],
   "source": [
    "import pandas as pd\n",
    "import numpy as np\n",
    "import matplotlib.pyplot as plt\n",
    "import seaborn as sns\n",
    "from scipy.stats import norm\n",
    "import time "
   ],
   "metadata": {
    "collapsed": false,
    "ExecuteTime": {
     "end_time": "2023-11-14T16:06:27.796131Z",
     "start_time": "2023-11-14T16:06:27.618266Z"
    }
   },
   "id": "6e8a308ad322f23"
  },
  {
   "cell_type": "markdown",
   "source": [
    "<h2>Two-sample problems</h2>"
   ],
   "metadata": {
    "collapsed": false
   },
   "id": "2fe799b2e1ec8bef"
  },
  {
   "cell_type": "markdown",
   "source": [
    "Compare sample statistics across groups of a variable\n",
    "`converted_comp` is a numerical variable\n",
    "`age_first_code_cut` is a categorical variable with levels (\"child\" and \"adult\")\n",
    "Are users who first programmed as a child compensated higher than those that started asadults?"
   ],
   "metadata": {
    "collapsed": false
   },
   "id": "44861c6fcf47cfb8"
  },
  {
   "cell_type": "code",
   "execution_count": 27,
   "outputs": [
    {
     "data": {
      "text/plain": "   respondent                                        main_branch hobbyist  \\\n0        36.0  I am not primarily a developer, but I write co...      Yes   \n1        47.0                     I am a developer by profession      Yes   \n2        69.0                     I am a developer by profession      Yes   \n3       125.0  I am not primarily a developer, but I write co...      Yes   \n4       147.0  I am not primarily a developer, but I write co...       No   \n\n    age  age_1st_code age_first_code_cut comp_freq  comp_total  \\\n0  34.0          30.0              adult    Yearly     60000.0   \n1  53.0          10.0              child    Yearly     58000.0   \n2  25.0          12.0              child    Yearly    550000.0   \n3  41.0          30.0              adult   Monthly    200000.0   \n4  28.0          15.0              adult    Yearly     50000.0   \n\n   converted_comp         country  ...          survey_length trans  \\\n0         77556.0  United Kingdom  ...  Appropriate in length    No   \n1         74970.0  United Kingdom  ...  Appropriate in length    No   \n2        594539.0          France  ...              Too short    No   \n3       2000000.0   United States  ...  Appropriate in length    No   \n4         37816.0          Canada  ...  Appropriate in length    No   \n\n                                     undergrad_major  \\\n0  Computer science, computer engineering, or sof...   \n1  A natural science (such as biology, chemistry,...   \n2  Computer science, computer engineering, or sof...   \n3                                               None   \n4  Another engineering discipline (such as civil,...   \n\n  webframe_desire_next_year webframe_worked_with  \\\n0          Express;React.js     Express;React.js   \n1              Flask;Spring         Flask;Spring   \n2              Django;Flask         Django;Flask   \n3                      None                 None   \n4                      None        Express;Flask   \n\n                            welcome_change work_week_hrs years_code  \\\n0  Just as welcome now as I felt last year          40.0        4.0   \n1  Just as welcome now as I felt last year          40.0       43.0   \n2  Just as welcome now as I felt last year          40.0       13.0   \n3  Just as welcome now as I felt last year          40.0       11.0   \n4  Just as welcome now as I felt last year          40.0        5.0   \n\n  years_code_pro      age_cat  \n0            3.0  At least 30  \n1           28.0  At least 30  \n2            3.0     Under 30  \n3           11.0  At least 30  \n4            3.0     Under 30  \n\n[5 rows x 63 columns]",
      "text/html": "<div>\n<style scoped>\n    .dataframe tbody tr th:only-of-type {\n        vertical-align: middle;\n    }\n\n    .dataframe tbody tr th {\n        vertical-align: top;\n    }\n\n    .dataframe thead th {\n        text-align: right;\n    }\n</style>\n<table border=\"1\" class=\"dataframe\">\n  <thead>\n    <tr style=\"text-align: right;\">\n      <th></th>\n      <th>respondent</th>\n      <th>main_branch</th>\n      <th>hobbyist</th>\n      <th>age</th>\n      <th>age_1st_code</th>\n      <th>age_first_code_cut</th>\n      <th>comp_freq</th>\n      <th>comp_total</th>\n      <th>converted_comp</th>\n      <th>country</th>\n      <th>...</th>\n      <th>survey_length</th>\n      <th>trans</th>\n      <th>undergrad_major</th>\n      <th>webframe_desire_next_year</th>\n      <th>webframe_worked_with</th>\n      <th>welcome_change</th>\n      <th>work_week_hrs</th>\n      <th>years_code</th>\n      <th>years_code_pro</th>\n      <th>age_cat</th>\n    </tr>\n  </thead>\n  <tbody>\n    <tr>\n      <th>0</th>\n      <td>36.0</td>\n      <td>I am not primarily a developer, but I write co...</td>\n      <td>Yes</td>\n      <td>34.0</td>\n      <td>30.0</td>\n      <td>adult</td>\n      <td>Yearly</td>\n      <td>60000.0</td>\n      <td>77556.0</td>\n      <td>United Kingdom</td>\n      <td>...</td>\n      <td>Appropriate in length</td>\n      <td>No</td>\n      <td>Computer science, computer engineering, or sof...</td>\n      <td>Express;React.js</td>\n      <td>Express;React.js</td>\n      <td>Just as welcome now as I felt last year</td>\n      <td>40.0</td>\n      <td>4.0</td>\n      <td>3.0</td>\n      <td>At least 30</td>\n    </tr>\n    <tr>\n      <th>1</th>\n      <td>47.0</td>\n      <td>I am a developer by profession</td>\n      <td>Yes</td>\n      <td>53.0</td>\n      <td>10.0</td>\n      <td>child</td>\n      <td>Yearly</td>\n      <td>58000.0</td>\n      <td>74970.0</td>\n      <td>United Kingdom</td>\n      <td>...</td>\n      <td>Appropriate in length</td>\n      <td>No</td>\n      <td>A natural science (such as biology, chemistry,...</td>\n      <td>Flask;Spring</td>\n      <td>Flask;Spring</td>\n      <td>Just as welcome now as I felt last year</td>\n      <td>40.0</td>\n      <td>43.0</td>\n      <td>28.0</td>\n      <td>At least 30</td>\n    </tr>\n    <tr>\n      <th>2</th>\n      <td>69.0</td>\n      <td>I am a developer by profession</td>\n      <td>Yes</td>\n      <td>25.0</td>\n      <td>12.0</td>\n      <td>child</td>\n      <td>Yearly</td>\n      <td>550000.0</td>\n      <td>594539.0</td>\n      <td>France</td>\n      <td>...</td>\n      <td>Too short</td>\n      <td>No</td>\n      <td>Computer science, computer engineering, or sof...</td>\n      <td>Django;Flask</td>\n      <td>Django;Flask</td>\n      <td>Just as welcome now as I felt last year</td>\n      <td>40.0</td>\n      <td>13.0</td>\n      <td>3.0</td>\n      <td>Under 30</td>\n    </tr>\n    <tr>\n      <th>3</th>\n      <td>125.0</td>\n      <td>I am not primarily a developer, but I write co...</td>\n      <td>Yes</td>\n      <td>41.0</td>\n      <td>30.0</td>\n      <td>adult</td>\n      <td>Monthly</td>\n      <td>200000.0</td>\n      <td>2000000.0</td>\n      <td>United States</td>\n      <td>...</td>\n      <td>Appropriate in length</td>\n      <td>No</td>\n      <td>None</td>\n      <td>None</td>\n      <td>None</td>\n      <td>Just as welcome now as I felt last year</td>\n      <td>40.0</td>\n      <td>11.0</td>\n      <td>11.0</td>\n      <td>At least 30</td>\n    </tr>\n    <tr>\n      <th>4</th>\n      <td>147.0</td>\n      <td>I am not primarily a developer, but I write co...</td>\n      <td>No</td>\n      <td>28.0</td>\n      <td>15.0</td>\n      <td>adult</td>\n      <td>Yearly</td>\n      <td>50000.0</td>\n      <td>37816.0</td>\n      <td>Canada</td>\n      <td>...</td>\n      <td>Appropriate in length</td>\n      <td>No</td>\n      <td>Another engineering discipline (such as civil,...</td>\n      <td>None</td>\n      <td>Express;Flask</td>\n      <td>Just as welcome now as I felt last year</td>\n      <td>40.0</td>\n      <td>5.0</td>\n      <td>3.0</td>\n      <td>Under 30</td>\n    </tr>\n  </tbody>\n</table>\n<p>5 rows × 63 columns</p>\n</div>"
     },
     "execution_count": 27,
     "metadata": {},
     "output_type": "execute_result"
    }
   ],
   "source": [
    "stack_overflow = pd.read_feather('Data/stack_overflow.feather')\n",
    "stack_overflow.head()"
   ],
   "metadata": {
    "collapsed": false,
    "ExecuteTime": {
     "end_time": "2023-11-14T16:06:27.851924Z",
     "start_time": "2023-11-14T16:06:27.798729Z"
    }
   },
   "id": "44ac138563a8f92"
  },
  {
   "cell_type": "markdown",
   "source": [
    "<h2>Calculating groupwise summary statistics</h2>"
   ],
   "metadata": {
    "collapsed": false
   },
   "id": "f74f640183c17b15"
  },
  {
   "cell_type": "code",
   "execution_count": 28,
   "outputs": [
    {
     "data": {
      "text/plain": "age_first_code_cut\nadult    111313.311047\nchild    132419.570621\nName: converted_comp, dtype: float64"
     },
     "execution_count": 28,
     "metadata": {},
     "output_type": "execute_result"
    }
   ],
   "source": [
    "stack_overflow.groupby(\"age_first_code_cut\")['converted_comp'].mean()"
   ],
   "metadata": {
    "collapsed": false,
    "ExecuteTime": {
     "end_time": "2023-11-14T16:06:27.866239Z",
     "start_time": "2023-11-14T16:06:27.829216Z"
    }
   },
   "id": "9c85eb113dfd4634"
  },
  {
   "cell_type": "markdown",
   "source": [
    "<h2>Test statistics</h2>"
   ],
   "metadata": {
    "collapsed": false
   },
   "id": "a80a34969cf2b81e"
  },
  {
   "cell_type": "markdown",
   "source": [
    ">x̄ - (a sample mean)"
   ],
   "metadata": {
    "collapsed": false
   },
   "id": "f022d8839b0d5355"
  },
  {
   "cell_type": "code",
   "execution_count": 29,
   "outputs": [
    {
     "data": {
      "text/plain": "age_first_code_cut\nadult    108296.849112\nchild    143876.165017\nName: converted_comp, dtype: float64"
     },
     "execution_count": 29,
     "metadata": {},
     "output_type": "execute_result"
    }
   ],
   "source": [
    "samp_mean = stack_overflow.sample(frac=1, replace=1).groupby(\"age_first_code_cut\")['converted_comp'].mean()\n",
    "samp_mean"
   ],
   "metadata": {
    "collapsed": false,
    "ExecuteTime": {
     "end_time": "2023-11-14T16:06:27.938546Z",
     "start_time": "2023-11-14T16:06:27.858443Z"
    }
   },
   "id": "7d574fe77db05de2"
  },
  {
   "cell_type": "markdown",
   "source": [
    "̄̄̄̄̄̅x (child) -  ̅x (adult) (a test statistic)"
   ],
   "metadata": {
    "collapsed": false
   },
   "id": "53b367cea113c180"
  },
  {
   "cell_type": "code",
   "execution_count": 30,
   "outputs": [
    {
     "data": {
      "text/plain": "35579.315904075615"
     },
     "execution_count": 30,
     "metadata": {},
     "output_type": "execute_result"
    }
   ],
   "source": [
    "np.abs(samp_mean['adult'] - samp_mean['child'])"
   ],
   "metadata": {
    "collapsed": false,
    "ExecuteTime": {
     "end_time": "2023-11-14T16:06:28.022957Z",
     "start_time": "2023-11-14T16:06:27.907591Z"
    }
   },
   "id": "663877f406c7596d"
  },
  {
   "cell_type": "markdown",
   "source": [
    "<h2>Standardizing the test statistic</h2>"
   ],
   "metadata": {
    "collapsed": false
   },
   "id": "f8452af27f453530"
  },
  {
   "cell_type": "markdown",
   "source": [
    "z = (sample stat−population parameter)/(standard error)"
   ],
   "metadata": {
    "collapsed": false
   },
   "id": "ed2e6ab31dfe56b2"
  },
  {
   "cell_type": "markdown",
   "source": [
    "t = (difference in sample stats − difference in population parameters)/(standard error)"
   ],
   "metadata": {
    "collapsed": false
   },
   "id": "d0e605fbdfa3cf15"
  },
  {
   "cell_type": "markdown",
   "source": [
    "<img src=\"file:///Users/nguyentam/Desktop/Screenshot%202023-11-13%20at%2016.44.28.png\">"
   ],
   "metadata": {
    "collapsed": false
   },
   "id": "e1c3a27d0b8611c3"
  },
  {
   "cell_type": "code",
   "execution_count": 31,
   "outputs": [
    {
     "data": {
      "text/plain": "age_first_code_cut\nadult    271546.521729\nchild    255585.240115\nName: converted_comp, dtype: float64"
     },
     "execution_count": 31,
     "metadata": {},
     "output_type": "execute_result"
    }
   ],
   "source": [
    "s = stack_overflow.groupby('age_first_code_cut')['converted_comp'].std()\n",
    "s"
   ],
   "metadata": {
    "collapsed": false,
    "ExecuteTime": {
     "end_time": "2023-11-14T16:06:28.417251Z",
     "start_time": "2023-11-14T16:06:28.034504Z"
    }
   },
   "id": "ac71155368137840"
  },
  {
   "cell_type": "code",
   "execution_count": 32,
   "outputs": [
    {
     "data": {
      "text/plain": "age_first_code_cut\nadult    1376\nchild     885\nName: converted_comp, dtype: int64"
     },
     "execution_count": 32,
     "metadata": {},
     "output_type": "execute_result"
    }
   ],
   "source": [
    "n = stack_overflow.groupby('age_first_code_cut')['converted_comp'].count()\n",
    "n"
   ],
   "metadata": {
    "collapsed": false,
    "ExecuteTime": {
     "end_time": "2023-11-14T16:06:28.535862Z",
     "start_time": "2023-11-14T16:06:28.350674Z"
    }
   },
   "id": "53fd73c2ea7f23c8"
  },
  {
   "cell_type": "markdown",
   "source": [
    "<h2>Calculating the test statistic</h2>"
   ],
   "metadata": {
    "collapsed": false
   },
   "id": "8ee5eb879933f201"
  },
  {
   "cell_type": "markdown",
   "source": [
    "If H₀: => u(child) - u(adult) = 0 ->"
   ],
   "metadata": {
    "collapsed": false
   },
   "id": "ea4e6aa263358b6e"
  },
  {
   "cell_type": "code",
   "execution_count": 33,
   "outputs": [
    {
     "name": "stdout",
     "output_type": "stream",
     "text": [
      "t-statistic: nan\n",
      "p-value: nan\n"
     ]
    },
    {
     "name": "stderr",
     "output_type": "stream",
     "text": [
      "/Library/Python/3.9/site-packages/scipy/stats/_stats_py.py:7030: RuntimeWarning: invalid value encountered in scalar divide\n",
      "  svar = ((n1 - 1) * v1 + (n2 - 1) * v2) / df\n"
     ]
    }
   ],
   "source": [
    "from scipy import stats\n",
    "\n",
    "# Example data sets\n",
    "\n",
    "\n",
    "# Perform independent samples t-test\n",
    "t_statistic, p_value = stats.ttest_ind(samp_mean['adult'], samp_mean['child'])\n",
    "\n",
    "# Display the results\n",
    "print(\"t-statistic:\", t_statistic)\n",
    "print(\"p-value:\", p_value)"
   ],
   "metadata": {
    "collapsed": false,
    "ExecuteTime": {
     "end_time": "2023-11-14T16:06:28.583787Z",
     "start_time": "2023-11-14T16:06:28.466063Z"
    }
   },
   "id": "698635a052992c09"
  },
  {
   "cell_type": "code",
   "execution_count": 34,
   "outputs": [
    {
     "data": {
      "text/plain": "1      74970.0\n2     594539.0\n6      48644.0\n8      94539.0\n12    171000.0\nName: converted_comp, dtype: float64"
     },
     "execution_count": 34,
     "metadata": {},
     "output_type": "execute_result"
    }
   ],
   "source": [
    "child_converted_comp = stack_overflow[stack_overflow[\"age_first_code_cut\"] == \"child\"]['converted_comp']\n",
    "child_converted_comp.head()"
   ],
   "metadata": {
    "collapsed": false,
    "ExecuteTime": {
     "end_time": "2023-11-14T16:06:28.739671Z",
     "start_time": "2023-11-14T16:06:28.594845Z"
    }
   },
   "id": "7264c21100f24d6d"
  },
  {
   "cell_type": "code",
   "execution_count": 35,
   "outputs": [
    {
     "data": {
      "text/plain": "0      77556.0\n3    2000000.0\n4      37816.0\n5     121980.0\n7     130000.0\nName: converted_comp, dtype: float64"
     },
     "execution_count": 35,
     "metadata": {},
     "output_type": "execute_result"
    }
   ],
   "source": [
    "adult_converted_comp = stack_overflow[stack_overflow[\"age_first_code_cut\"] == \"adult\"]['converted_comp']\n",
    "adult_converted_comp.head()"
   ],
   "metadata": {
    "collapsed": false,
    "ExecuteTime": {
     "end_time": "2023-11-14T16:06:28.808415Z",
     "start_time": "2023-11-14T16:06:28.700921Z"
    }
   },
   "id": "a364bd903bbd6fb2"
  },
  {
   "cell_type": "code",
   "execution_count": 36,
   "outputs": [
    {
     "data": {
      "text/plain": "1.8708298697003694"
     },
     "execution_count": 36,
     "metadata": {},
     "output_type": "execute_result"
    }
   ],
   "source": [
    "t = (child_converted_comp.mean() - adult_converted_comp.mean())/np.sqrt(np.var(child_converted_comp)/len(child_converted_comp) + np.var(adult_converted_comp)/len(adult_converted_comp))\n",
    "t"
   ],
   "metadata": {
    "collapsed": false,
    "ExecuteTime": {
     "end_time": "2023-11-14T16:06:28.892547Z",
     "start_time": "2023-11-14T16:06:28.787330Z"
    }
   },
   "id": "e2f21b3f6f53f459"
  },
  {
   "cell_type": "markdown",
   "source": [
    "<h1>Calculating p-valuesfrom t-statistics</h1>"
   ],
   "metadata": {
    "collapsed": false
   },
   "id": "dce8377ee4af1a11"
  },
  {
   "cell_type": "markdown",
   "source": [
    "<h2>t-distributions</h2>\n",
    "\n",
    ">t statistic follows a t-distribution\n",
    "\n",
    ">Have a parameter named degrees offreedom, or df\n",
    "\n",
    ">Look like normal distributions, with fattertails"
   ],
   "metadata": {
    "collapsed": false
   },
   "id": "b6896317a7139c22"
  },
  {
   "cell_type": "markdown",
   "source": [
    "<h2>Calculating degrees of freedom</h2>"
   ],
   "metadata": {
    "collapsed": false
   },
   "id": "2dc6d26db601ab0"
  },
  {
   "cell_type": "code",
   "execution_count": 37,
   "outputs": [
    {
     "data": {
      "text/plain": "885"
     },
     "execution_count": 37,
     "metadata": {},
     "output_type": "execute_result"
    }
   ],
   "source": [
    "n_child = len(child_converted_comp)\n",
    "n_child"
   ],
   "metadata": {
    "collapsed": false,
    "ExecuteTime": {
     "end_time": "2023-11-14T16:06:29.085062Z",
     "start_time": "2023-11-14T16:06:28.886264Z"
    }
   },
   "id": "803ab16d31a8843e"
  },
  {
   "cell_type": "code",
   "execution_count": 38,
   "outputs": [
    {
     "data": {
      "text/plain": "1376"
     },
     "execution_count": 38,
     "metadata": {},
     "output_type": "execute_result"
    }
   ],
   "source": [
    "n_adult = len(adult_converted_comp)\n",
    "n_adult"
   ],
   "metadata": {
    "collapsed": false,
    "ExecuteTime": {
     "end_time": "2023-11-14T16:06:29.200324Z",
     "start_time": "2023-11-14T16:06:29.030724Z"
    }
   },
   "id": "f4a6fa4186ddf703"
  },
  {
   "cell_type": "code",
   "execution_count": 39,
   "outputs": [
    {
     "data": {
      "text/plain": "2259"
     },
     "execution_count": 39,
     "metadata": {},
     "output_type": "execute_result"
    }
   ],
   "source": [
    "df = n_child + n_adult - 2 \n",
    "df"
   ],
   "metadata": {
    "collapsed": false,
    "ExecuteTime": {
     "end_time": "2023-11-14T16:06:29.272810Z",
     "start_time": "2023-11-14T16:06:29.130198Z"
    }
   },
   "id": "83de474c84c349a1"
  },
  {
   "cell_type": "markdown",
   "source": [
    "<h2>Hypotheses</h2>"
   ],
   "metadata": {
    "collapsed": false
   },
   "id": "eb4d4d3cf5261fb6"
  },
  {
   "cell_type": "markdown",
   "source": [
    "Hｏ: The mean compensation (in USD) is the same for those that coded first as a child andthose that coded first as an adult\n",
    "\n",
    "Ha : The mean compensation (in USD) is greater for those that coded first as a childcompared to those that coded first as an adult\n",
    "\n",
    "**`Use a right-tailed test`**"
   ],
   "metadata": {
    "collapsed": false
   },
   "id": "922c1d6e076615f1"
  },
  {
   "cell_type": "code",
   "execution_count": 40,
   "outputs": [
    {
     "data": {
      "text/plain": "0.08481185141800214"
     },
     "execution_count": 40,
     "metadata": {},
     "output_type": "execute_result"
    }
   ],
   "source": [
    "first_code_boot_distn = stack_overflow.sample(frac=1, replace=True)\n",
    "first_code_boot_distn = ([first_code_boot_distn['age_first_code_cut'] == \"child\"])\n",
    "np.std(first_code_boot_distn, ddof=1)\n",
    "alpha = 0.05\n",
    "prop_child_samp = (stack_overflow['age_first_code_cut'] == \"child\").mean()\n",
    "prop_child_hyp = 0.35\n",
    "std_error = np.std(first_code_boot_distn, ddof=1)\n",
    "# std_error = 0.010351057228878566\n",
    "z_score = (prop_child_samp - prop_child_hyp) / std_error\n",
    "p_value = 1 - norm.pdf(z_score, loc=0, scale=1)\n",
    "z_score"
   ],
   "metadata": {
    "collapsed": false,
    "ExecuteTime": {
     "end_time": "2023-11-14T16:06:29.408419Z",
     "start_time": "2023-11-14T16:06:29.272224Z"
    }
   },
   "id": "797c3ce7226d8a8c"
  },
  {
   "cell_type": "code",
   "execution_count": 41,
   "outputs": [
    {
     "data": {
      "text/plain": "0.4662054857107346"
     },
     "execution_count": 41,
     "metadata": {},
     "output_type": "execute_result"
    }
   ],
   "source": [
    "1 - norm.cdf(z_score)"
   ],
   "metadata": {
    "collapsed": false,
    "ExecuteTime": {
     "end_time": "2023-11-14T16:06:29.503219Z",
     "start_time": "2023-11-14T16:06:29.379711Z"
    }
   },
   "id": "244a1b4a836e4b0d"
  },
  {
   "cell_type": "code",
   "execution_count": 42,
   "outputs": [
    {
     "data": {
      "text/plain": "132419.5706214689"
     },
     "execution_count": 42,
     "metadata": {},
     "output_type": "execute_result"
    }
   ],
   "source": [
    "xbar_child = child_converted_comp.mean()\n",
    "xbar_child"
   ],
   "metadata": {
    "collapsed": false,
    "ExecuteTime": {
     "end_time": "2023-11-14T16:06:29.594179Z",
     "start_time": "2023-11-14T16:06:29.436698Z"
    }
   },
   "id": "3c316e860f2cb59"
  },
  {
   "cell_type": "code",
   "execution_count": 43,
   "outputs": [
    {
     "data": {
      "text/plain": "255440.80086065124"
     },
     "execution_count": 43,
     "metadata": {},
     "output_type": "execute_result"
    }
   ],
   "source": [
    "s_child = np.std(child_converted_comp)\n",
    "s_child"
   ],
   "metadata": {
    "collapsed": false,
    "ExecuteTime": {
     "end_time": "2023-11-14T16:06:29.697087Z",
     "start_time": "2023-11-14T16:06:29.567413Z"
    }
   },
   "id": "e8a479099a02b0b0"
  },
  {
   "cell_type": "code",
   "execution_count": 44,
   "outputs": [
    {
     "data": {
      "text/plain": "111313.31104651163"
     },
     "execution_count": 44,
     "metadata": {},
     "output_type": "execute_result"
    }
   ],
   "source": [
    "xbar_adult = adult_converted_comp.mean()\n",
    "xbar_adult"
   ],
   "metadata": {
    "collapsed": false,
    "ExecuteTime": {
     "end_time": "2023-11-14T16:06:29.816087Z",
     "start_time": "2023-11-14T16:06:29.685010Z"
    }
   },
   "id": "262b604ab6bfd276"
  },
  {
   "cell_type": "code",
   "execution_count": 45,
   "outputs": [
    {
     "data": {
      "text/plain": "271447.8313668675"
     },
     "execution_count": 45,
     "metadata": {},
     "output_type": "execute_result"
    }
   ],
   "source": [
    "s_adult = np.std(adult_converted_comp)\n",
    "s_adult"
   ],
   "metadata": {
    "collapsed": false,
    "ExecuteTime": {
     "end_time": "2023-11-14T16:06:29.933743Z",
     "start_time": "2023-11-14T16:06:29.763294Z"
    }
   },
   "id": "445102353e684a57"
  },
  {
   "cell_type": "markdown",
   "source": [
    "<h2>Calculating p-values: one proportion vs. a value</h2>"
   ],
   "metadata": {
    "collapsed": false
   },
   "id": "fbd4b827fbf567db"
  },
  {
   "cell_type": "code",
   "execution_count": 46,
   "outputs": [
    {
     "data": {
      "text/plain": "0.4662054857107346"
     },
     "execution_count": 46,
     "metadata": {},
     "output_type": "execute_result"
    }
   ],
   "source": [
    "1 - norm.cdf(z_score)"
   ],
   "metadata": {
    "collapsed": false,
    "ExecuteTime": {
     "end_time": "2023-11-14T16:06:30.059835Z",
     "start_time": "2023-11-14T16:06:29.896446Z"
    }
   },
   "id": "27d99d850abba1b9"
  },
  {
   "cell_type": "markdown",
   "source": [
    "<img src = \"file:///Users/nguyentam/Desktop/Screenshot%202023-11-14%20at%2007.30.53.png\">"
   ],
   "metadata": {
    "collapsed": false
   },
   "id": "355825ef36a2213e"
  },
  {
   "cell_type": "code",
   "execution_count": 47,
   "outputs": [
    {
     "name": "stdout",
     "output_type": "stream",
     "text": [
      "Values of two dimensions -> numerator = 21106.25957495728 and denominator = 11281.763198669498\n"
     ]
    },
    {
     "data": {
      "text/plain": "1.8708298697003694"
     },
     "execution_count": 47,
     "metadata": {},
     "output_type": "execute_result"
    }
   ],
   "source": [
    "numerator = xbar_child - xbar_adult\n",
    "denominator = np.sqrt(s_child ** 2 / n_child + s_adult ** 2 / n_adult)\n",
    "t_stat = numerator / denominator\n",
    "print(\"Values of two dimensions -> numerator = {} and denominator = {}\".format(numerator,denominator))\n",
    "t_stat"
   ],
   "metadata": {
    "collapsed": false,
    "ExecuteTime": {
     "end_time": "2023-11-14T16:06:30.241527Z",
     "start_time": "2023-11-14T16:06:30.049397Z"
    }
   },
   "id": "ef358f38beb5202"
  },
  {
   "cell_type": "markdown",
   "source": [
    ">z-statistic: needed when using one sample statistic to estimate a population parameter\n",
    ">t-statistic: needed when using multiple sample statistics to estimate a population parameter"
   ],
   "metadata": {
    "collapsed": false
   },
   "id": "28c79d0a4c8ccda4"
  },
  {
   "cell_type": "markdown",
   "source": [
    "<h2>Calculating p-values: two means from different groups</h2>"
   ],
   "metadata": {
    "collapsed": false
   },
   "id": "8c172bbe97b80244"
  },
  {
   "cell_type": "markdown",
   "source": [
    "Use t-distribution CDF not normal CDF"
   ],
   "metadata": {
    "collapsed": false
   },
   "id": "330b74a502f17651"
  },
  {
   "cell_type": "code",
   "execution_count": 48,
   "outputs": [
    {
     "data": {
      "text/plain": "1.8708298697003694"
     },
     "execution_count": 48,
     "metadata": {},
     "output_type": "execute_result"
    }
   ],
   "source": [
    "t_stat"
   ],
   "metadata": {
    "collapsed": false,
    "ExecuteTime": {
     "end_time": "2023-11-14T16:06:30.294406Z",
     "start_time": "2023-11-14T16:06:30.119702Z"
    }
   },
   "id": "35da5828b55fd2a3"
  },
  {
   "cell_type": "code",
   "execution_count": 49,
   "outputs": [
    {
     "data": {
      "text/plain": "2259"
     },
     "execution_count": 49,
     "metadata": {},
     "output_type": "execute_result"
    }
   ],
   "source": [
    "df"
   ],
   "metadata": {
    "collapsed": false,
    "ExecuteTime": {
     "end_time": "2023-11-14T16:06:30.409405Z",
     "start_time": "2023-11-14T16:06:30.278836Z"
    }
   },
   "id": "7967a8f65ec9715f"
  },
  {
   "cell_type": "code",
   "execution_count": 50,
   "outputs": [
    {
     "data": {
      "text/plain": "0.030748928855381497"
     },
     "execution_count": 50,
     "metadata": {},
     "output_type": "execute_result"
    }
   ],
   "source": [
    "from scipy.stats import t\n",
    "1 - t.cdf(t_stat, df = df)"
   ],
   "metadata": {
    "collapsed": false,
    "ExecuteTime": {
     "end_time": "2023-11-14T16:06:30.545486Z",
     "start_time": "2023-11-14T16:06:30.418754Z"
    }
   },
   "id": "5055901385ed611e"
  },
  {
   "cell_type": "code",
   "execution_count": 51,
   "outputs": [
    {
     "data": {
      "text/plain": "<seaborn.axisgrid.FacetGrid at 0x16c9b38e0>"
     },
     "execution_count": 51,
     "metadata": {},
     "output_type": "execute_result"
    },
    {
     "data": {
      "text/plain": "<Figure size 500x500 with 1 Axes>",
      "image/png": "[encoded data removed]"
     },
     "metadata": {},
     "output_type": "display_data"
    }
   ],
   "source": [
    "sns.displot(x = [i for i in range(-2,3)], y = t.pdf(t_stat, df = 2259))"
   ],
   "metadata": {
    "collapsed": false,
    "ExecuteTime": {
     "end_time": "2023-11-14T16:06:31.487737Z",
     "start_time": "2023-11-14T16:06:30.469169Z"
    }
   },
   "id": "1b31fe58ccddae46"
  },
  {
   "cell_type": "markdown",
   "source": [
    "<h1>Paired t-tests</h1>"
   ],
   "metadata": {
    "collapsed": false
   },
   "id": "8e9799cab96ffc51"
  },
  {
   "cell_type": "markdown",
   "source": [
    "<h2>US Republican presidents dataset</h2>"
   ],
   "metadata": {
    "collapsed": false
   },
   "id": "eb816f912e3bb7f8"
  },
  {
   "cell_type": "code",
   "execution_count": 52,
   "outputs": [
    {
     "data": {
      "text/plain": "         state       county  repub_percent_08  repub_percent_12\n0      Alabama         Hale         38.957877         37.139882\n1     Arkansas       Nevada         56.726272         58.983452\n2   California         Lake         38.896719         39.331367\n3   California      Ventura         42.923190         45.250693\n4     Colorado      Lincoln         74.522569         73.764757\n..         ...          ...               ...               ...\n95   Wisconsin      Burnett         48.342541         52.437478\n96   Wisconsin    La Crosse         37.490904         40.577038\n97   Wisconsin    Lafayette         38.104967         41.675050\n98     Wyoming       Weston         76.684241         83.983328\n99      Alaska  District 34         77.063259         40.789626\n\n[100 rows x 4 columns]",
      "text/html": "<div>\n<style scoped>\n    .dataframe tbody tr th:only-of-type {\n        vertical-align: middle;\n    }\n\n    .dataframe tbody tr th {\n        vertical-align: top;\n    }\n\n    .dataframe thead th {\n        text-align: right;\n    }\n</style>\n<table border=\"1\" class=\"dataframe\">\n  <thead>\n    <tr style=\"text-align: right;\">\n      <th></th>\n      <th>state</th>\n      <th>county</th>\n      <th>repub_percent_08</th>\n      <th>repub_percent_12</th>\n    </tr>\n  </thead>\n  <tbody>\n    <tr>\n      <th>0</th>\n      <td>Alabama</td>\n      <td>Hale</td>\n      <td>38.957877</td>\n      <td>37.139882</td>\n    </tr>\n    <tr>\n      <th>1</th>\n      <td>Arkansas</td>\n      <td>Nevada</td>\n      <td>56.726272</td>\n      <td>58.983452</td>\n    </tr>\n    <tr>\n      <th>2</th>\n      <td>California</td>\n      <td>Lake</td>\n      <td>38.896719</td>\n      <td>39.331367</td>\n    </tr>\n    <tr>\n      <th>3</th>\n      <td>California</td>\n      <td>Ventura</td>\n      <td>42.923190</td>\n      <td>45.250693</td>\n    </tr>\n    <tr>\n      <th>4</th>\n      <td>Colorado</td>\n      <td>Lincoln</td>\n      <td>74.522569</td>\n      <td>73.764757</td>\n    </tr>\n    <tr>\n      <th>...</th>\n      <td>...</td>\n      <td>...</td>\n      <td>...</td>\n      <td>...</td>\n    </tr>\n    <tr>\n      <th>95</th>\n      <td>Wisconsin</td>\n      <td>Burnett</td>\n      <td>48.342541</td>\n      <td>52.437478</td>\n    </tr>\n    <tr>\n      <th>96</th>\n      <td>Wisconsin</td>\n      <td>La Crosse</td>\n      <td>37.490904</td>\n      <td>40.577038</td>\n    </tr>\n    <tr>\n      <th>97</th>\n      <td>Wisconsin</td>\n      <td>Lafayette</td>\n      <td>38.104967</td>\n      <td>41.675050</td>\n    </tr>\n    <tr>\n      <th>98</th>\n      <td>Wyoming</td>\n      <td>Weston</td>\n      <td>76.684241</td>\n      <td>83.983328</td>\n    </tr>\n    <tr>\n      <th>99</th>\n      <td>Alaska</td>\n      <td>District 34</td>\n      <td>77.063259</td>\n      <td>40.789626</td>\n    </tr>\n  </tbody>\n</table>\n<p>100 rows × 4 columns</p>\n</div>"
     },
     "execution_count": 52,
     "metadata": {},
     "output_type": "execute_result"
    }
   ],
   "source": [
    "repub_votes_potus_08_12 = pd.read_feather(\"Data/repub_votes_potus_08_12.feather\")\n",
    "repub_votes_potus_08_12"
   ],
   "metadata": {
    "collapsed": false,
    "ExecuteTime": {
     "end_time": "2023-11-14T16:06:31.662573Z",
     "start_time": "2023-11-14T16:06:31.488064Z"
    }
   },
   "id": "139b7a149086f443"
  },
  {
   "cell_type": "code",
   "execution_count": 53,
   "outputs": [
    {
     "data": {
      "text/plain": "         state       county  repub_percent_08  repub_percent_12       diff\n0      Alabama         Hale         38.957877         37.139882   1.817995\n1     Arkansas       Nevada         56.726272         58.983452  -2.257179\n2   California         Lake         38.896719         39.331367  -0.434648\n3   California      Ventura         42.923190         45.250693  -2.327503\n4     Colorado      Lincoln         74.522569         73.764757   0.757812\n..         ...          ...               ...               ...        ...\n95   Wisconsin      Burnett         48.342541         52.437478  -4.094937\n96   Wisconsin    La Crosse         37.490904         40.577038  -3.086134\n97   Wisconsin    Lafayette         38.104967         41.675050  -3.570083\n98     Wyoming       Weston         76.684241         83.983328  -7.299087\n99      Alaska  District 34         77.063259         40.789626  36.273633\n\n[100 rows x 5 columns]",
      "text/html": "<div>\n<style scoped>\n    .dataframe tbody tr th:only-of-type {\n        vertical-align: middle;\n    }\n\n    .dataframe tbody tr th {\n        vertical-align: top;\n    }\n\n    .dataframe thead th {\n        text-align: right;\n    }\n</style>\n<table border=\"1\" class=\"dataframe\">\n  <thead>\n    <tr style=\"text-align: right;\">\n      <th></th>\n      <th>state</th>\n      <th>county</th>\n      <th>repub_percent_08</th>\n      <th>repub_percent_12</th>\n      <th>diff</th>\n    </tr>\n  </thead>\n  <tbody>\n    <tr>\n      <th>0</th>\n      <td>Alabama</td>\n      <td>Hale</td>\n      <td>38.957877</td>\n      <td>37.139882</td>\n      <td>1.817995</td>\n    </tr>\n    <tr>\n      <th>1</th>\n      <td>Arkansas</td>\n      <td>Nevada</td>\n      <td>56.726272</td>\n      <td>58.983452</td>\n      <td>-2.257179</td>\n    </tr>\n    <tr>\n      <th>2</th>\n      <td>California</td>\n      <td>Lake</td>\n      <td>38.896719</td>\n      <td>39.331367</td>\n      <td>-0.434648</td>\n    </tr>\n    <tr>\n      <th>3</th>\n      <td>California</td>\n      <td>Ventura</td>\n      <td>42.923190</td>\n      <td>45.250693</td>\n      <td>-2.327503</td>\n    </tr>\n    <tr>\n      <th>4</th>\n      <td>Colorado</td>\n      <td>Lincoln</td>\n      <td>74.522569</td>\n      <td>73.764757</td>\n      <td>0.757812</td>\n    </tr>\n    <tr>\n      <th>...</th>\n      <td>...</td>\n      <td>...</td>\n      <td>...</td>\n      <td>...</td>\n      <td>...</td>\n    </tr>\n    <tr>\n      <th>95</th>\n      <td>Wisconsin</td>\n      <td>Burnett</td>\n      <td>48.342541</td>\n      <td>52.437478</td>\n      <td>-4.094937</td>\n    </tr>\n    <tr>\n      <th>96</th>\n      <td>Wisconsin</td>\n      <td>La Crosse</td>\n      <td>37.490904</td>\n      <td>40.577038</td>\n      <td>-3.086134</td>\n    </tr>\n    <tr>\n      <th>97</th>\n      <td>Wisconsin</td>\n      <td>Lafayette</td>\n      <td>38.104967</td>\n      <td>41.675050</td>\n      <td>-3.570083</td>\n    </tr>\n    <tr>\n      <th>98</th>\n      <td>Wyoming</td>\n      <td>Weston</td>\n      <td>76.684241</td>\n      <td>83.983328</td>\n      <td>-7.299087</td>\n    </tr>\n    <tr>\n      <th>99</th>\n      <td>Alaska</td>\n      <td>District 34</td>\n      <td>77.063259</td>\n      <td>40.789626</td>\n      <td>36.273633</td>\n    </tr>\n  </tbody>\n</table>\n<p>100 rows × 5 columns</p>\n</div>"
     },
     "execution_count": 53,
     "metadata": {},
     "output_type": "execute_result"
    }
   ],
   "source": [
    "sample_data  = repub_votes_potus_08_12\n",
    "sample_data['diff'] = sample_data['repub_percent_08'] - sample_data['repub_percent_12']\n",
    "sample_data"
   ],
   "metadata": {
    "collapsed": false,
    "ExecuteTime": {
     "end_time": "2023-11-14T16:06:31.666243Z",
     "start_time": "2023-11-14T16:06:31.548617Z"
    }
   },
   "id": "8e678276e9961ec2"
  },
  {
   "cell_type": "code",
   "execution_count": 54,
   "outputs": [
    {
     "data": {
      "text/plain": "<Figure size 500x500 with 1 Axes>",
      "image/png": "[encoded data removed]"
     },
     "metadata": {},
     "output_type": "display_data"
    }
   ],
   "source": [
    "sns.displot(sample_data['diff'], bins = 20)\n",
    "plt.show()\n",
    "plt.close()"
   ],
   "metadata": {
    "collapsed": false,
    "ExecuteTime": {
     "end_time": "2023-11-14T16:06:32.360272Z",
     "start_time": "2023-11-14T16:06:31.568450Z"
    }
   },
   "id": "183936ea3995c21d"
  },
  {
   "cell_type": "code",
   "execution_count": 55,
   "outputs": [
    {
     "data": {
      "text/plain": "-2.877109041242944"
     },
     "execution_count": 55,
     "metadata": {},
     "output_type": "execute_result"
    }
   ],
   "source": [
    "xbar_div = sample_data['diff'].mean()\n",
    "xbar_div"
   ],
   "metadata": {
    "collapsed": false,
    "ExecuteTime": {
     "end_time": "2023-11-14T16:06:32.484232Z",
     "start_time": "2023-11-14T16:06:32.348221Z"
    }
   },
   "id": "ad3a126a15b49800"
  },
  {
   "cell_type": "code",
   "execution_count": 56,
   "outputs": [],
   "source": [
    "df = len(sample_data['diff']) - 1"
   ],
   "metadata": {
    "collapsed": false,
    "ExecuteTime": {
     "end_time": "2023-11-14T16:06:32.521417Z",
     "start_time": "2023-11-14T16:06:32.366706Z"
    }
   },
   "id": "855035683695f067"
  },
  {
   "cell_type": "code",
   "execution_count": 57,
   "outputs": [
    {
     "data": {
      "text/plain": "5.110989665505294"
     },
     "execution_count": 57,
     "metadata": {},
     "output_type": "execute_result"
    }
   ],
   "source": [
    "s_diff = np.std(sample_data['diff'])\n",
    "s_diff"
   ],
   "metadata": {
    "collapsed": false,
    "ExecuteTime": {
     "end_time": "2023-11-14T16:06:32.523940Z",
     "start_time": "2023-11-14T16:06:32.377711Z"
    }
   },
   "id": "b7f5e178207573bc"
  },
  {
   "cell_type": "code",
   "execution_count": 58,
   "outputs": [
    {
     "data": {
      "text/plain": "(-5.629260142435644, 99)"
     },
     "execution_count": 58,
     "metadata": {},
     "output_type": "execute_result"
    }
   ],
   "source": [
    "t_stat = (xbar_div - 0)/np.sqrt(s_diff**2/len(sample_data['diff']))\n",
    "t_stat, df"
   ],
   "metadata": {
    "collapsed": false,
    "ExecuteTime": {
     "end_time": "2023-11-14T16:06:32.582360Z",
     "start_time": "2023-11-14T16:06:32.389461Z"
    }
   },
   "id": "3cff392322800148"
  },
  {
   "cell_type": "code",
   "execution_count": 59,
   "outputs": [
    {
     "data": {
      "text/plain": "8.458652559404504e-08"
     },
     "execution_count": 59,
     "metadata": {},
     "output_type": "execute_result"
    }
   ],
   "source": [
    "from scipy.stats import t\n",
    "p_values = t.cdf(t_stat, df = df )\n",
    "p_values"
   ],
   "metadata": {
    "collapsed": false,
    "ExecuteTime": {
     "end_time": "2023-11-14T16:06:32.584711Z",
     "start_time": "2023-11-14T16:06:32.402813Z"
    }
   },
   "id": "df0f0d4e182d2dd7"
  },
  {
   "cell_type": "markdown",
   "source": [
    "<h2>Testing differences between two means using ttest()</h2>"
   ],
   "metadata": {
    "collapsed": false
   },
   "id": "c84e8fa132cc745a"
  },
  {
   "cell_type": "code",
   "execution_count": 61,
   "outputs": [
    {
     "ename": "ModuleNotFoundError",
     "evalue": "No module named 'pingouin'",
     "output_type": "error",
     "traceback": [
      "\u001B[0;31m---------------------------------------------------------------------------\u001B[0m",
      "\u001B[0;31mModuleNotFoundError\u001B[0m                       Traceback (most recent call last)",
      "Cell \u001B[0;32mIn[61], line 1\u001B[0m\n\u001B[0;32m----> 1\u001B[0m \u001B[38;5;28;01mimport\u001B[39;00m \u001B[38;5;21;01mpingouin\u001B[39;00m\n\u001B[1;32m      3\u001B[0m pingouin\u001B[38;5;241m.\u001B[39m__version__\n",
      "\u001B[0;31mModuleNotFoundError\u001B[0m: No module named 'pingouin'"
     ]
    }
   ],
   "source": [
    "import pingouin\n",
    "\n",
    "pingouin.__version__"
   ],
   "metadata": {
    "collapsed": false,
    "ExecuteTime": {
     "end_time": "2023-11-14T16:06:55.526877Z",
     "start_time": "2023-11-14T16:06:55.507447Z"
    }
   },
   "id": "c9736ee6532e0177"
  },
  {
   "cell_type": "code",
   "execution_count": null,
   "outputs": [],
   "source": [],
   "metadata": {
    "collapsed": false,
    "ExecuteTime": {
     "start_time": "2023-11-14T16:06:32.462752Z"
    }
   },
   "id": "83011f8edeaeef85"
  }
 ],
 "metadata": {
  "kernelspec": {
   "display_name": "Python 3",
   "language": "python",
   "name": "python3"
  },
  "language_info": {
   "codemirror_mode": {
    "name": "ipython",
    "version": 2
   },
   "file_extension": ".py",
   "mimetype": "text/x-python",
   "name": "python",
   "nbconvert_exporter": "python",
   "pygments_lexer": "ipython2",
   "version": "2.7.6"
  }
 },
 "nbformat": 4,
 "nbformat_minor": 5
}
