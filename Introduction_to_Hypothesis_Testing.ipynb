{
 "cells": [
  {
   "cell_type": "markdown",
   "source": [
    "<h1>Hypothesis tests andz-scores</h1>"
   ],
   "metadata": {
    "collapsed": false
   },
   "id": "eda472029b086bcd"
  },
  {
   "cell_type": "code",
   "execution_count": 74,
   "outputs": [],
   "source": [
    "import pandas as pd\n",
    "import numpy as np\n",
    "import matplotlib.pyplot as plt\n",
    "import seaborn as sns"
   ],
   "metadata": {
    "collapsed": false,
    "ExecuteTime": {
     "end_time": "2023-11-13T06:39:24.304779Z",
     "start_time": "2023-11-13T06:39:24.205907Z"
    }
   },
   "id": "a2c9b88d0bda472c"
  },
  {
   "cell_type": "code",
   "execution_count": 75,
   "outputs": [
    {
     "name": "stdout",
     "output_type": "stream",
     "text": [
      "Requirement already satisfied: scipy in /Library/Python/3.9/site-packages (1.11.3)\r\n",
      "Requirement already satisfied: numpy<1.28.0,>=1.21.6 in /Library/Python/3.9/site-packages (from scipy) (1.26.1)\r\n",
      "\r\n",
      "\u001B[1m[\u001B[0m\u001B[34;49mnotice\u001B[0m\u001B[1;39;49m]\u001B[0m\u001B[39;49m A new release of pip is available: \u001B[0m\u001B[31;49m23.2.1\u001B[0m\u001B[39;49m -> \u001B[0m\u001B[32;49m23.3.1\u001B[0m\r\n",
      "\u001B[1m[\u001B[0m\u001B[34;49mnotice\u001B[0m\u001B[1;39;49m]\u001B[0m\u001B[39;49m To update, run: \u001B[0m\u001B[32;49mpip install --upgrade pip\u001B[0m\r\n"
     ]
    }
   ],
   "source": [
    "!python3 -m pip install scipy"
   ],
   "metadata": {
    "collapsed": false,
    "ExecuteTime": {
     "end_time": "2023-11-13T06:39:26.643873Z",
     "start_time": "2023-11-13T06:39:24.308599Z"
    }
   },
   "id": "7995469f6ec0c1a0"
  },
  {
   "cell_type": "code",
   "execution_count": 76,
   "outputs": [],
   "source": [
    "from scipy.stats import norm, rv_histogram"
   ],
   "metadata": {
    "collapsed": false,
    "ExecuteTime": {
     "end_time": "2023-11-13T06:39:26.652171Z",
     "start_time": "2023-11-13T06:39:26.644195Z"
    }
   },
   "id": "189c0c222a1dd92c"
  },
  {
   "cell_type": "markdown",
   "source": [
    "<h2>A/B testing</h2>"
   ],
   "metadata": {
    "collapsed": false
   },
   "id": "6ee11b9f2d54d825"
  },
  {
   "cell_type": "markdown",
   "source": [
    ">In 2013, Electronic Arts (EA) released SimCity 5\n",
    "\n",
    ">They wanted to increase pre-orders of the game\n",
    "\n",
    ">They used A/B testing to test different advertising scenarios\n",
    "\n",
    ">This involves splitting users into `control` and `treatment` groups"
   ],
   "metadata": {
    "collapsed": false
   },
   "id": "3c9ab42f7608ad97"
  },
  {
   "cell_type": "markdown",
   "source": [
    "<h2>Retail webpage A/B test</h2>"
   ],
   "metadata": {
    "collapsed": false
   },
   "id": "dcf0b4e39c612eb8"
  },
  {
   "cell_type": "markdown",
   "source": [
    "### Control:"
   ],
   "metadata": {
    "collapsed": false
   },
   "id": "473e86830126abb9"
  },
  {
   "cell_type": "markdown",
   "source": [
    "<img src = 'file:///Users/nguyentam/Desktop/Screenshot%202023-11-11%20at%2023.53.08.png'/>"
   ],
   "metadata": {
    "collapsed": false
   },
   "id": "c08e71093f16eb31"
  },
  {
   "cell_type": "markdown",
   "source": [
    "### Treatment:"
   ],
   "metadata": {
    "collapsed": false
   },
   "id": "f43e9c0ba1f4171d"
  },
  {
   "cell_type": "markdown",
   "source": [
    "<img src = 'file:///Users/nguyentam/Desktop/Screenshot%202023-11-11%20at%2023.53.21.png'/>"
   ],
   "metadata": {
    "collapsed": false
   },
   "id": "86ae5faba792a096"
  },
  {
   "cell_type": "markdown",
   "source": [
    ">The treatment group (no ad) got 43.4% more purchases than the control group (with ad)\n",
    " \n",
    ">Intuition that \"Showing an ad would increase sales\" was false\n",
    "\n",
    ">Was this result statistically significant or just chance ?\n",
    "\n",
    ">Need EA's data to determine this\n",
    "\n",
    ">Techniques from Sampling in Python + this course to do so\n",
    "  "
   ],
   "metadata": {
    "collapsed": false
   },
   "id": "b17968c485f94e92"
  },
  {
   "cell_type": "markdown",
   "source": [
    "<h2>Stack Overflow Developer Survey 2020</h2>"
   ],
   "metadata": {
    "collapsed": false
   },
   "id": "48be4b37b02ba696"
  },
  {
   "cell_type": "code",
   "execution_count": 77,
   "outputs": [
    {
     "data": {
      "text/plain": "   respondent                                        main_branch hobbyist  \\\n0        36.0  I am not primarily a developer, but I write co...      Yes   \n1        47.0                     I am a developer by profession      Yes   \n2        69.0                     I am a developer by profession      Yes   \n3       125.0  I am not primarily a developer, but I write co...      Yes   \n\n    age  age_1st_code age_first_code_cut comp_freq  comp_total  \\\n0  34.0          30.0              adult    Yearly     60000.0   \n1  53.0          10.0              child    Yearly     58000.0   \n2  25.0          12.0              child    Yearly    550000.0   \n3  41.0          30.0              adult   Monthly    200000.0   \n\n   converted_comp         country  ...          survey_length trans  \\\n0         77556.0  United Kingdom  ...  Appropriate in length    No   \n1         74970.0  United Kingdom  ...  Appropriate in length    No   \n2        594539.0          France  ...              Too short    No   \n3       2000000.0   United States  ...  Appropriate in length    No   \n\n                                     undergrad_major  \\\n0  Computer science, computer engineering, or sof...   \n1  A natural science (such as biology, chemistry,...   \n2  Computer science, computer engineering, or sof...   \n3                                               None   \n\n  webframe_desire_next_year webframe_worked_with  \\\n0          Express;React.js     Express;React.js   \n1              Flask;Spring         Flask;Spring   \n2              Django;Flask         Django;Flask   \n3                      None                 None   \n\n                            welcome_change work_week_hrs years_code  \\\n0  Just as welcome now as I felt last year          40.0        4.0   \n1  Just as welcome now as I felt last year          40.0       43.0   \n2  Just as welcome now as I felt last year          40.0       13.0   \n3  Just as welcome now as I felt last year          40.0       11.0   \n\n  years_code_pro      age_cat  \n0            3.0  At least 30  \n1           28.0  At least 30  \n2            3.0     Under 30  \n3           11.0  At least 30  \n\n[4 rows x 63 columns]",
      "text/html": "<div>\n<style scoped>\n    .dataframe tbody tr th:only-of-type {\n        vertical-align: middle;\n    }\n\n    .dataframe tbody tr th {\n        vertical-align: top;\n    }\n\n    .dataframe thead th {\n        text-align: right;\n    }\n</style>\n<table border=\"1\" class=\"dataframe\">\n  <thead>\n    <tr style=\"text-align: right;\">\n      <th></th>\n      <th>respondent</th>\n      <th>main_branch</th>\n      <th>hobbyist</th>\n      <th>age</th>\n      <th>age_1st_code</th>\n      <th>age_first_code_cut</th>\n      <th>comp_freq</th>\n      <th>comp_total</th>\n      <th>converted_comp</th>\n      <th>country</th>\n      <th>...</th>\n      <th>survey_length</th>\n      <th>trans</th>\n      <th>undergrad_major</th>\n      <th>webframe_desire_next_year</th>\n      <th>webframe_worked_with</th>\n      <th>welcome_change</th>\n      <th>work_week_hrs</th>\n      <th>years_code</th>\n      <th>years_code_pro</th>\n      <th>age_cat</th>\n    </tr>\n  </thead>\n  <tbody>\n    <tr>\n      <th>0</th>\n      <td>36.0</td>\n      <td>I am not primarily a developer, but I write co...</td>\n      <td>Yes</td>\n      <td>34.0</td>\n      <td>30.0</td>\n      <td>adult</td>\n      <td>Yearly</td>\n      <td>60000.0</td>\n      <td>77556.0</td>\n      <td>United Kingdom</td>\n      <td>...</td>\n      <td>Appropriate in length</td>\n      <td>No</td>\n      <td>Computer science, computer engineering, or sof...</td>\n      <td>Express;React.js</td>\n      <td>Express;React.js</td>\n      <td>Just as welcome now as I felt last year</td>\n      <td>40.0</td>\n      <td>4.0</td>\n      <td>3.0</td>\n      <td>At least 30</td>\n    </tr>\n    <tr>\n      <th>1</th>\n      <td>47.0</td>\n      <td>I am a developer by profession</td>\n      <td>Yes</td>\n      <td>53.0</td>\n      <td>10.0</td>\n      <td>child</td>\n      <td>Yearly</td>\n      <td>58000.0</td>\n      <td>74970.0</td>\n      <td>United Kingdom</td>\n      <td>...</td>\n      <td>Appropriate in length</td>\n      <td>No</td>\n      <td>A natural science (such as biology, chemistry,...</td>\n      <td>Flask;Spring</td>\n      <td>Flask;Spring</td>\n      <td>Just as welcome now as I felt last year</td>\n      <td>40.0</td>\n      <td>43.0</td>\n      <td>28.0</td>\n      <td>At least 30</td>\n    </tr>\n    <tr>\n      <th>2</th>\n      <td>69.0</td>\n      <td>I am a developer by profession</td>\n      <td>Yes</td>\n      <td>25.0</td>\n      <td>12.0</td>\n      <td>child</td>\n      <td>Yearly</td>\n      <td>550000.0</td>\n      <td>594539.0</td>\n      <td>France</td>\n      <td>...</td>\n      <td>Too short</td>\n      <td>No</td>\n      <td>Computer science, computer engineering, or sof...</td>\n      <td>Django;Flask</td>\n      <td>Django;Flask</td>\n      <td>Just as welcome now as I felt last year</td>\n      <td>40.0</td>\n      <td>13.0</td>\n      <td>3.0</td>\n      <td>Under 30</td>\n    </tr>\n    <tr>\n      <th>3</th>\n      <td>125.0</td>\n      <td>I am not primarily a developer, but I write co...</td>\n      <td>Yes</td>\n      <td>41.0</td>\n      <td>30.0</td>\n      <td>adult</td>\n      <td>Monthly</td>\n      <td>200000.0</td>\n      <td>2000000.0</td>\n      <td>United States</td>\n      <td>...</td>\n      <td>Appropriate in length</td>\n      <td>No</td>\n      <td>None</td>\n      <td>None</td>\n      <td>None</td>\n      <td>Just as welcome now as I felt last year</td>\n      <td>40.0</td>\n      <td>11.0</td>\n      <td>11.0</td>\n      <td>At least 30</td>\n    </tr>\n  </tbody>\n</table>\n<p>4 rows × 63 columns</p>\n</div>"
     },
     "execution_count": 77,
     "metadata": {},
     "output_type": "execute_result"
    }
   ],
   "source": [
    "stack_overflow = pd.read_feather('Data/stack_overflow.feather')\n",
    "stack_overflow.head(4)"
   ],
   "metadata": {
    "collapsed": false,
    "ExecuteTime": {
     "end_time": "2023-11-13T06:39:26.693854Z",
     "start_time": "2023-11-13T06:39:26.650112Z"
    }
   },
   "id": "104d8895a40ab46e"
  },
  {
   "cell_type": "markdown",
   "source": [
    "<h2>Hypothesizing about the mean</h2>"
   ],
   "metadata": {
    "collapsed": false
   },
   "id": "39d77df92dfccbc4"
  },
  {
   "cell_type": "markdown",
   "source": [
    "A hypothesis:\n",
    "\n",
    ">The mean annual compensation(mức lương hàng năm) of the polulation of data scientists is $110.000\n",
    "\n",
    "The point estimate (sample statistic):"
   ],
   "metadata": {
    "collapsed": false
   },
   "id": "cb58b623c5830255"
  },
  {
   "cell_type": "code",
   "execution_count": 78,
   "outputs": [
    {
     "data": {
      "text/plain": "119574.71738168952"
     },
     "execution_count": 78,
     "metadata": {},
     "output_type": "execute_result"
    }
   ],
   "source": [
    "stack_overflow['converted_comp'].mean()"
   ],
   "metadata": {
    "collapsed": false,
    "ExecuteTime": {
     "end_time": "2023-11-13T06:39:26.703148Z",
     "start_time": "2023-11-13T06:39:26.695792Z"
    }
   },
   "id": "fbe0f743aa6dbcce"
  },
  {
   "cell_type": "markdown",
   "source": [
    "<h2>Generating a bootstrap distribution</h2>"
   ],
   "metadata": {
    "collapsed": false
   },
   "id": "6a514d5a4ebc0beb"
  },
  {
   "cell_type": "code",
   "execution_count": 79,
   "outputs": [
    {
     "name": "stdout",
     "output_type": "stream",
     "text": [
      "[114742.73551525874, 121863.70765148164, 124092.42680229987]\n"
     ]
    },
    {
     "data": {
      "text/plain": "(5000,)"
     },
     "execution_count": 79,
     "metadata": {},
     "output_type": "execute_result"
    }
   ],
   "source": [
    "so_boot_distn = []\n",
    "for i in range(5000):\n",
    "    so_boot_distn.append(\n",
    "        np.mean(\n",
    "            stack_overflow.sample(frac=1, replace=True)['converted_comp']\n",
    "        )\n",
    "    )\n",
    "print(so_boot_distn[:3])\n",
    "np.array(so_boot_distn).shape"
   ],
   "metadata": {
    "collapsed": false,
    "ExecuteTime": {
     "end_time": "2023-11-13T06:39:36.106235Z",
     "start_time": "2023-11-13T06:39:26.702874Z"
    }
   },
   "id": "79de8015f424f1e9"
  },
  {
   "cell_type": "markdown",
   "source": [
    "<h2>Visualizing the bootstrap distribution</h2>"
   ],
   "metadata": {
    "collapsed": false
   },
   "id": "fbed8fa3b1670e20"
  },
  {
   "cell_type": "code",
   "execution_count": 80,
   "outputs": [
    {
     "data": {
      "text/plain": "<Figure size 640x480 with 1 Axes>",
      "image/png": "[encoded data removed]"
     },
     "metadata": {},
     "output_type": "display_data"
    }
   ],
   "source": [
    "plt.hist(so_boot_distn, bins=50)\n",
    "plt.show()"
   ],
   "metadata": {
    "collapsed": false,
    "ExecuteTime": {
     "end_time": "2023-11-13T06:39:36.356962Z",
     "start_time": "2023-11-13T06:39:36.103488Z"
    }
   },
   "id": "cc650172de212462"
  },
  {
   "cell_type": "markdown",
   "source": [
    "<h2>Standard error</h2>"
   ],
   "metadata": {
    "collapsed": false
   },
   "id": "3b28ab5d4db9265e"
  },
  {
   "cell_type": "code",
   "execution_count": 81,
   "outputs": [
    {
     "data": {
      "text/plain": "5603.61320974789"
     },
     "execution_count": 81,
     "metadata": {},
     "output_type": "execute_result"
    }
   ],
   "source": [
    "std_error = np.std(so_boot_distn, ddof=1)\n",
    "std_error"
   ],
   "metadata": {
    "collapsed": false,
    "ExecuteTime": {
     "end_time": "2023-11-13T06:39:36.360904Z",
     "start_time": "2023-11-13T06:39:36.350754Z"
    }
   },
   "id": "aa3f10c3d0382340"
  },
  {
   "cell_type": "code",
   "execution_count": 82,
   "outputs": [
    {
     "data": {
      "text/plain": "266451.6608150275"
     },
     "execution_count": 82,
     "metadata": {},
     "output_type": "execute_result"
    }
   ],
   "source": [
    "std = std_error*np.sqrt(len(stack_overflow['converted_comp']))\n",
    "std"
   ],
   "metadata": {
    "collapsed": false,
    "ExecuteTime": {
     "end_time": "2023-11-13T06:39:36.487790Z",
     "start_time": "2023-11-13T06:39:36.364029Z"
    }
   },
   "id": "5a9f5f7457890a5"
  },
  {
   "cell_type": "code",
   "execution_count": 83,
   "outputs": [
    {
     "data": {
      "text/plain": "265497.3410580749"
     },
     "execution_count": 83,
     "metadata": {},
     "output_type": "execute_result"
    }
   ],
   "source": [
    "np.std(stack_overflow['converted_comp'])"
   ],
   "metadata": {
    "collapsed": false,
    "ExecuteTime": {
     "end_time": "2023-11-13T06:39:36.489655Z",
     "start_time": "2023-11-13T06:39:36.372455Z"
    }
   },
   "id": "2eebb8cb7acb679f"
  },
  {
   "cell_type": "markdown",
   "source": [
    "<h2>Z-Score</h2>"
   ],
   "metadata": {
    "collapsed": false
   },
   "id": "4d80cc9917d6250b"
  },
  {
   "cell_type": "markdown",
   "source": [
    "`standardized value = (value - mean)/(standard deviation)`"
   ],
   "metadata": {
    "collapsed": false
   },
   "id": "a453669124166571"
  },
  {
   "cell_type": "code",
   "execution_count": 84,
   "outputs": [
    {
     "data": {
      "text/plain": "119574.71738168952"
     },
     "execution_count": 84,
     "metadata": {},
     "output_type": "execute_result"
    }
   ],
   "source": [
    "stack_overflow['converted_comp'].mean()"
   ],
   "metadata": {
    "collapsed": false,
    "ExecuteTime": {
     "end_time": "2023-11-13T06:39:36.574608Z",
     "start_time": "2023-11-13T06:39:36.399869Z"
    }
   },
   "id": "f89d7f6c85c7ea1a"
  },
  {
   "cell_type": "code",
   "execution_count": 85,
   "outputs": [],
   "source": [
    "mean_comp_hyp = 110000"
   ],
   "metadata": {
    "collapsed": false,
    "ExecuteTime": {
     "end_time": "2023-11-13T06:39:36.576257Z",
     "start_time": "2023-11-13T06:39:36.407971Z"
    }
   },
   "id": "bc4b6d1dae15f24e"
  },
  {
   "cell_type": "code",
   "execution_count": 86,
   "outputs": [
    {
     "data": {
      "text/plain": "5603.61320974789"
     },
     "execution_count": 86,
     "metadata": {},
     "output_type": "execute_result"
    }
   ],
   "source": [
    "std_error"
   ],
   "metadata": {
    "collapsed": false,
    "ExecuteTime": {
     "end_time": "2023-11-13T06:39:36.577885Z",
     "start_time": "2023-11-13T06:39:36.414199Z"
    }
   },
   "id": "92f8232f6569c284"
  },
  {
   "cell_type": "code",
   "execution_count": 87,
   "outputs": [
    {
     "data": {
      "text/plain": "1.7086685007155045"
     },
     "execution_count": 87,
     "metadata": {},
     "output_type": "execute_result"
    }
   ],
   "source": [
    "z_scored = (stack_overflow['converted_comp'].mean() - mean_comp_hyp)/std_error\n",
    "z_scored"
   ],
   "metadata": {
    "collapsed": false,
    "ExecuteTime": {
     "end_time": "2023-11-13T06:39:36.598483Z",
     "start_time": "2023-11-13T06:39:36.425751Z"
    }
   },
   "id": "a6cea38f44d9f100"
  },
  {
   "cell_type": "markdown",
   "source": [
    "<h2>Testing the hypothesis</h2>"
   ],
   "metadata": {
    "collapsed": false
   },
   "id": "bec3e36f312ccf6e"
  },
  {
   "cell_type": "markdown",
   "source": [
    "Is 1.707 a `high` or `low` number?\n",
    ">This is the goal of the course"
   ],
   "metadata": {
    "collapsed": false
   },
   "id": "5eddc30c255ce350"
  },
  {
   "cell_type": "markdown",
   "source": [
    "<h3>Hypothesis testing use case:</h3>"
   ],
   "metadata": {
    "collapsed": false
   },
   "id": "d2714ec560ab6977"
  },
  {
   "cell_type": "markdown",
   "source": [
    ">Determine whether sample statistics are close to or far away from expected (or\"hypothesized\" values)"
   ],
   "metadata": {
    "collapsed": false
   },
   "id": "bdf2f1e863e6694f"
  },
  {
   "cell_type": "markdown",
   "source": [
    "<h2>Standard normal (z) distribution</h2>"
   ],
   "metadata": {
    "collapsed": false
   },
   "id": "f482b093c6ee757a"
  },
  {
   "cell_type": "markdown",
   "source": [
    "Standard normal distribution: normal distribution with **`mean = 0 + standard deviation = 1`**"
   ],
   "metadata": {
    "collapsed": false
   },
   "id": "b8b59fe554d51ba2"
  },
  {
   "cell_type": "code",
   "execution_count": 88,
   "outputs": [
    {
     "data": {
      "text/plain": "array([ 2.97326214e-05,  1.89131558e+00, -1.83493916e+00, -8.18761386e-01,\n        1.74157349e+00, -2.58921427e-01,  3.48460083e-01,  6.26708274e-02,\n        1.48276389e+00, -1.37204070e+00, -5.44932870e-01, -8.71225894e-01,\n        1.40029849e-01, -1.68126548e+00,  9.16590761e-01])"
     },
     "execution_count": 88,
     "metadata": {},
     "output_type": "execute_result"
    }
   ],
   "source": [
    "r = norm.rvs(size=1000, scale = 1)\n",
    "r[:15]"
   ],
   "metadata": {
    "collapsed": false,
    "ExecuteTime": {
     "end_time": "2023-11-13T06:39:36.601698Z",
     "start_time": "2023-11-13T06:39:36.434297Z"
    }
   },
   "id": "24abb87e884ee2bb"
  },
  {
   "cell_type": "code",
   "execution_count": 89,
   "outputs": [
    {
     "data": {
      "text/plain": "<Figure size 640x480 with 1 Axes>",
      "image/png": "[encoded data removed]"
     },
     "metadata": {},
     "output_type": "display_data"
    }
   ],
   "source": [
    "plt.hist(r, density=True, bins='auto', histtype='stepfilled', alpha=0.2)\n",
    "plt.show()"
   ],
   "metadata": {
    "collapsed": false,
    "ExecuteTime": {
     "end_time": "2023-11-13T06:39:36.771188Z",
     "start_time": "2023-11-13T06:39:36.455913Z"
    }
   },
   "id": "8d540a663cfb50ca"
  },
  {
   "cell_type": "code",
   "execution_count": 90,
   "outputs": [
    {
     "ename": "NameError",
     "evalue": "name 'x' is not defined",
     "output_type": "error",
     "traceback": [
      "\u001B[0;31m---------------------------------------------------------------------------\u001B[0m",
      "\u001B[0;31mNameError\u001B[0m                                 Traceback (most recent call last)",
      "Cell \u001B[0;32mIn[90], line 1\u001B[0m\n\u001B[0;32m----> 1\u001B[0m sns\u001B[38;5;241m.\u001B[39mhistplot(norm\u001B[38;5;241m.\u001B[39mrvs(size\u001B[38;5;241m=\u001B[39m\u001B[38;5;241m500\u001B[39m), bins\u001B[38;5;241m=\u001B[39m\u001B[38;5;28mlen\u001B[39m(\u001B[43mx\u001B[49m))\n",
      "\u001B[0;31mNameError\u001B[0m: name 'x' is not defined"
     ]
    }
   ],
   "source": [
    "sns.histplot(norm.rvs(size=500), bins=len(x))"
   ],
   "metadata": {
    "collapsed": false,
    "ExecuteTime": {
     "end_time": "2023-11-13T06:39:36.774925Z",
     "start_time": "2023-11-13T06:39:36.765247Z"
    }
   },
   "id": "d54f3cf7bd080d4"
  },
  {
   "cell_type": "code",
   "execution_count": null,
   "outputs": [],
   "source": [
    "dist = norm.pdf(stack_overflow['converted_comp'])"
   ],
   "metadata": {
    "collapsed": false,
    "ExecuteTime": {
     "end_time": "2023-11-13T06:39:36.810960Z",
     "start_time": "2023-11-13T06:39:36.778626Z"
    }
   },
   "id": "ffc9c6285625764e"
  },
  {
   "cell_type": "markdown",
   "source": [
    "The z-score is a standardized measure of the difference between the sample statistic and the hypothesized statistic."
   ],
   "metadata": {
    "collapsed": false
   },
   "id": "ff67a0275b1f93ec"
  },
  {
   "cell_type": "markdown",
   "source": [
    "<h2>p-values</h2>"
   ],
   "metadata": {
    "collapsed": false
   },
   "id": "341c42c06b842971"
  },
  {
   "cell_type": "markdown",
   "source": [
    "<h3>Age of first programming experience:</h3>\n",
    "\n",
    ">`age_first_code_cut` classifies when Stack Overflow user first started programming\n",
    "        \"adult\" means they **`started at 14`** or older\"child\" means they **`started before 14`**\n",
    "        \n",
    ">Previous research: 35% of software developers started programming as children\n",
    "    \n",
    ">Evidence that a greater proportion of data scientists starting programming as children?\n"
   ],
   "metadata": {
    "collapsed": false
   },
   "id": "a1a1c3390d6a742"
  },
  {
   "cell_type": "markdown",
   "source": [
    "<h3>Definition</h3>"
   ],
   "metadata": {
    "collapsed": false
   },
   "id": "f2207cb6e7fb6ef5"
  },
  {
   "cell_type": "markdown",
   "source": [
    "A hypothesis is the statement about an unknown population parameter \n",
    "A hypothesis test is a test of two competing hypotheses\n",
    ">The null hypothesis (Ho) is the existing idea\n",
    ">The alternative(thay thế) hypothesis (Ha) is the new \"challenger\" idea of the researcher\n",
    "\n",
    "For our problem:\n",
    ">Ho:The proportion of data scientists starting programming as children is 35%\n",
    ">Ha:The proportion of data scientists starting programming as children is greater 35%"
   ],
   "metadata": {
    "collapsed": false
   },
   "id": "1790366d96238f7c"
  },
  {
   "cell_type": "code",
   "execution_count": 91,
   "outputs": [
    {
     "data": {
      "text/plain": "0.48727310258125306"
     },
     "execution_count": 91,
     "metadata": {},
     "output_type": "execute_result"
    }
   ],
   "source": [
    "first_code_boot_distn = stack_overflow.sample(frac=1, replace=True)\n",
    "first_code_boot_distn = ([first_code_boot_distn['age_first_code_cut'] == \"child\"])\n",
    "np.std(first_code_boot_distn, ddof=1)"
   ],
   "metadata": {
    "collapsed": false,
    "ExecuteTime": {
     "end_time": "2023-11-13T06:39:50.907830Z",
     "start_time": "2023-11-13T06:39:50.895858Z"
    }
   },
   "id": "31559dda01748851"
  },
  {
   "cell_type": "code",
   "execution_count": 92,
   "outputs": [
    {
     "ename": "TypeError",
     "evalue": "_reduce_func() got an unexpected keyword argument 'loc'",
     "output_type": "error",
     "traceback": [
      "\u001B[0;31m---------------------------------------------------------------------------\u001B[0m",
      "\u001B[0;31mTypeError\u001B[0m                                 Traceback (most recent call last)",
      "Cell \u001B[0;32mIn[92], line 7\u001B[0m\n\u001B[1;32m      5\u001B[0m \u001B[38;5;66;03m# std_error = 0.010351057228878566\u001B[39;00m\n\u001B[1;32m      6\u001B[0m z_score \u001B[38;5;241m=\u001B[39m (prop_child_samp \u001B[38;5;241m-\u001B[39m prop_child_hyp) \u001B[38;5;241m/\u001B[39m std_error\n\u001B[0;32m----> 7\u001B[0m p_value \u001B[38;5;241m=\u001B[39m \u001B[38;5;241m1\u001B[39m \u001B[38;5;241m-\u001B[39m \u001B[43mnorm\u001B[49m\u001B[38;5;241;43m.\u001B[39;49m\u001B[43m_reduce_func\u001B[49m\u001B[43m(\u001B[49m\u001B[43mz_score\u001B[49m\u001B[43m,\u001B[49m\u001B[43m \u001B[49m\u001B[43mloc\u001B[49m\u001B[38;5;241;43m=\u001B[39;49m\u001B[38;5;241;43m0\u001B[39;49m\u001B[43m,\u001B[49m\u001B[43m \u001B[49m\u001B[43mscale\u001B[49m\u001B[38;5;241;43m=\u001B[39;49m\u001B[38;5;241;43m1\u001B[39;49m\u001B[43m)\u001B[49m\n\u001B[1;32m      8\u001B[0m z_score\n",
      "\u001B[0;31mTypeError\u001B[0m: _reduce_func() got an unexpected keyword argument 'loc'"
     ]
    }
   ],
   "source": [
    "alpha = 0.05\n",
    "prop_child_samp = (stack_overflow['age_first_code_cut'] == \"child\").mean()\n",
    "prop_child_hyp = 0.35\n",
    "std_error = np.std(first_code_boot_distn, ddof=1)\n",
    "# std_error = 0.010351057228878566\n",
    "z_score = (prop_child_samp - prop_child_hyp) / std_error\n",
    "p_value = 1 - norm._reduce_func(z_score, loc=0, scale=1)\n",
    "z_score"
   ],
   "metadata": {
    "collapsed": false,
    "ExecuteTime": {
     "end_time": "2023-11-13T06:39:51.531935Z",
     "start_time": "2023-11-13T06:39:51.508625Z"
    }
   },
   "id": "aebf60f83e41906e"
  },
  {
   "cell_type": "code",
   "execution_count": 93,
   "outputs": [],
   "source": [
    "norm_dist = norm(loc = 0, scale = 1)"
   ],
   "metadata": {
    "collapsed": false,
    "ExecuteTime": {
     "end_time": "2023-11-13T06:39:52.052969Z",
     "start_time": "2023-11-13T06:39:52.048489Z"
    }
   },
   "id": "c076d42cdaaeb3c9"
  },
  {
   "cell_type": "markdown",
   "source": [
    "(1.0 - norm.ppf(0.95,norm_dist) / 2.0)"
   ],
   "metadata": {
    "collapsed": false
   },
   "id": "e759791372111915"
  },
  {
   "cell_type": "markdown",
   "source": [
    "# Define the normal distribution\n",
    "norm_dist = norm(loc = 0, scale = 1)\n",
    "\n",
    "# Calculate the probability of being less than 0.95\n",
    "prob_less_than_0_95 = norm.cdf(0.95, norm_dist)\n",
    "\n",
    "# Calculate the 2.5th percentile\n",
    "two_point_five_percentile = norm.ppf(0.95, norm_dist)\n",
    "\n",
    "# Calculate the probability of being between 0 and 0.95\n",
    "prob_between_0_and_0_95 = prob_less_than_0_95 - two_point_five_percentile / 2.0\n",
    "\n",
    "print(prob_between_0_and_0_95)"
   ],
   "metadata": {
    "collapsed": false
   },
   "id": "be9c5dc10c9d4143"
  },
  {
   "cell_type": "code",
   "execution_count": 95,
   "outputs": [],
   "source": [],
   "metadata": {
    "collapsed": false,
    "ExecuteTime": {
     "end_time": "2023-11-13T06:39:53.464920Z",
     "start_time": "2023-11-13T06:39:53.452982Z"
    }
   },
   "id": "ce59ea1daf0f8632"
  },
  {
   "cell_type": "code",
   "execution_count": null,
   "outputs": [],
   "source": [],
   "metadata": {
    "collapsed": false
   },
   "id": "9112c91471926d82"
  }
 ],
 "metadata": {
  "kernelspec": {
   "display_name": "Python 3",
   "language": "python",
   "name": "python3"
  },
  "language_info": {
   "codemirror_mode": {
    "name": "ipython",
    "version": 2
   },
   "file_extension": ".py",
   "mimetype": "text/x-python",
   "name": "python",
   "nbconvert_exporter": "python",
   "pygments_lexer": "ipython2",
   "version": "2.7.6"
  }
 },
 "nbformat": 4,
 "nbformat_minor": 5
}
